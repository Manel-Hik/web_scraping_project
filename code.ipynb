{
 "cells": [
  {
   "cell_type": "code",
   "execution_count": 13,
   "metadata": {},
   "outputs": [],
   "source": [
    "from selenium import webdriver\n",
    "from selenium.webdriver.common.by import By\n",
    "\n",
    "from bs4 import BeautifulSoup\n",
    "import time"
   ]
  },
  {
   "cell_type": "code",
   "execution_count": 24,
   "metadata": {},
   "outputs": [],
   "source": [
    "NB_Hotel_MAX = 50\n",
    "EXPORT_PATH = \"./exports/\""
   ]
  },
  {
   "cell_type": "code",
   "execution_count": 25,
   "metadata": {},
   "outputs": [
    {
     "name": "stderr",
     "output_type": "stream",
     "text": [
      "/tmp/ipykernel_23312/98850383.py:5: DeprecationWarning: executable_path has been deprecated, please pass in a Service object\n",
      "  browser = webdriver.Chrome(\"/usr/lib/chromium-browser/chromedriver\",options=options)\n"
     ]
    }
   ],
   "source": [
    "url = \"https://www.pretapartir.fr/recherche#!/search?th=SJ&sort=promo_desc&depart=A_PAR&f=3_AL&dureeNuit=7-99\"\n",
    "\n",
    "options = webdriver.ChromeOptions()\n",
    "#options.add_argument('headless')\n",
    "browser = webdriver.Chrome(\"/usr/lib/chromium-browser/chromedriver\",options=options)\n",
    "\n",
    "browser.get(url)\n",
    "\n",
    "time.sleep(2) #wait till all the content will be charged\n",
    "\n",
    "##-------------##\n",
    "\n",
    "#get the nb of results \n",
    "\n",
    "soup = BeautifulSoup(browser.page_source, 'html.parser') #first param: page html; 2 param: type of parser\n",
    "\n",
    "nb_elements = int(soup.find(\"h1\").find(\"strong\").get_text(strip = True)) #strip = true: remove all other characters\n",
    "#nb_elements\n",
    "\n",
    "##------------------##\n",
    "\n",
    "#define the nb of click to load new pages\n",
    "\n",
    "nb_click = NB_Hotel_MAX /10 -1 if nb_elements >= NB_Hotel_MAX else nb_elements/10\n",
    "#nb_click\n",
    "\n",
    "#----------#\n",
    "\n",
    "for i in range(0,int(nb_click)):\n",
    "    button_next_10 = browser.find_element(By.CSS_SELECTOR,\"a[ng-click='vm.loadMorePackage()']\")\n",
    "    #button_next_10.click()\n",
    "    \n",
    "    browser.execute_script(\"arguments[0].click()\",button_next_10)\n",
    "    time.sleep(2)\n",
    "\n",
    "soup = BeautifulSoup(browser.page_source, 'html.parser') \n",
    "\n",
    "browser.quit() #quit the navigator\n",
    "\n",
    "\n",
    "#----------#\n",
    "\n"
   ]
  },
  {
   "cell_type": "code",
   "execution_count": 26,
   "metadata": {},
   "outputs": [
    {
     "name": "stdout",
     "output_type": "stream",
     "text": [
      "50\n"
     ]
    }
   ],
   "source": [
    "# Get items\n",
    "items = soup.find_all(\"div\",{\"class\":\"blocProduct-wrapper ng-scope\"})\n",
    "#print(len(items))\n"
   ]
  },
  {
   "cell_type": "code",
   "execution_count": 33,
   "metadata": {},
   "outputs": [],
   "source": [
    "def clean_text(str):\n",
    "    return str.replace(\"\\n\",\"\").replace(\"\\t\",\"\")"
   ]
  },
  {
   "cell_type": "code",
   "execution_count": 43,
   "metadata": {},
   "outputs": [
    {
     "data": {
      "text/plain": [
       "'539€ / pers'"
      ]
     },
     "execution_count": 43,
     "metadata": {},
     "output_type": "execute_result"
    }
   ],
   "source": [
    "import re\n",
    "item = items[0]\n",
    "country = clean_text(item.find(\"p\",{\"class\":\"blocProduct-place\"}).get_text(strip = True)).replace(\" \",\"\")\n",
    "Hotel = clean_text(item.find(\"p\",{\"class\":\"blocProduct-title\"}).get_text(strip = True))\n",
    "\n",
    "details = item.find(\"div\",{\"class\":\"blocProduct-detail\"}).findChildren()\n",
    "\n",
    "duration = details[0].get_text() \n",
    "date = re.search('([0-9]{2}\\/[0-9]{2}\\/[0-9]{4})',details[1].get_text()).group(1)\n",
    "\n",
    "price = item.find(\"div\", {\"class\": \"blocProduct-price\"}).findChildren()[1].get_text()\n",
    "price"
   ]
  },
  {
   "cell_type": "code",
   "execution_count": null,
   "metadata": {},
   "outputs": [],
   "source": [
    "# store items scraped into a dict inside a list\n",
    "travels = []\n",
    "for item in items:\n",
    "    country = clean_text(item.find(\"p\",{\"class\":\"blocProduct-place\"}).get_text(strip = True)).replace(\" \",\"\")\n",
    "    hotel = clean_text(item.find(\"p\",{\"class\":\"blocProduct-title\"}).get_text(strip = True))\n",
    "\n",
    "    details = item.find(\"div\",{\"class\":\"blocProduct-detail\"}).findChildren()\n",
    "\n",
    "    duration = details[0].get_text() \n",
    "    date = re.search('([0-9]{2}\\/[0-9]{2}\\/[0-9]{4})',details[1].get_text()).group(1)\n",
    "\n",
    "    price = item.find(\"div\", {\"class\": \"blocProduct-price\"}).findChildren()[1].get_text()\n",
    "\n",
    "    travel = {\n",
    "        \"country\":country,\n",
    "        \"hotel\":hotel,\n",
    "        \"duration\":duration,\n",
    "        \"date\":date,\n",
    "        \"price\":price,\n",
    "\n",
    "    }\n",
    "    travels.append(travel)\n",
    "\n",
    "\n",
    "#travels"
   ]
  },
  {
   "cell_type": "code",
   "execution_count": null,
   "metadata": {},
   "outputs": [],
   "source": [
    "#export data into excel file\n",
    "import pandas as pd\n",
    "\n",
    "df = pd.DataFrame(travels)\n",
    "df\n"
   ]
  },
  {
   "cell_type": "code",
   "execution_count": 53,
   "metadata": {},
   "outputs": [],
   "source": [
    "df.to_excel(EXPORT_PATH + 'holidays.xlsx', index = False)"
   ]
  },
  {
   "cell_type": "code",
   "execution_count": null,
   "metadata": {},
   "outputs": [],
   "source": []
  }
 ],
 "metadata": {
  "kernelspec": {
   "display_name": "Python 3.8.10 64-bit",
   "language": "python",
   "name": "python3"
  },
  "language_info": {
   "codemirror_mode": {
    "name": "ipython",
    "version": 3
   },
   "file_extension": ".py",
   "mimetype": "text/x-python",
   "name": "python",
   "nbconvert_exporter": "python",
   "pygments_lexer": "ipython3",
   "version": "3.8.10"
  },
  "orig_nbformat": 4,
  "vscode": {
   "interpreter": {
    "hash": "916dbcbb3f70747c44a77c7bcd40155683ae19c65e1c03b4aa3499c5328201f1"
   }
  }
 },
 "nbformat": 4,
 "nbformat_minor": 2
}
